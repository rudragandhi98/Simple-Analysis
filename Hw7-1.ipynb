{
 "cells": [
  {
   "cell_type": "code",
   "execution_count": 1,
   "metadata": {},
   "outputs": [],
   "source": [
    "import numpy as np\n",
    "import pandas as pd"
   ]
  },
  {
   "cell_type": "code",
   "execution_count": 24,
   "metadata": {},
   "outputs": [],
   "source": [
    "admission_data = pd.read_csv(\"Admission_Predict.csv\")\n",
    "admission_data.columns =[\"Serial_no\",\"Gre_Score\",\"Toefl_score\",\"University_Rating\",\"SOP\",\"LOR\",\"CGPA\",\"Research\",\"Chance_of_Admit\"] "
   ]
  },
  {
   "cell_type": "code",
   "execution_count": 25,
   "metadata": {},
   "outputs": [
    {
     "data": {
      "text/html": [
       "<div>\n",
       "<style scoped>\n",
       "    .dataframe tbody tr th:only-of-type {\n",
       "        vertical-align: middle;\n",
       "    }\n",
       "\n",
       "    .dataframe tbody tr th {\n",
       "        vertical-align: top;\n",
       "    }\n",
       "\n",
       "    .dataframe thead th {\n",
       "        text-align: right;\n",
       "    }\n",
       "</style>\n",
       "<table border=\"1\" class=\"dataframe\">\n",
       "  <thead>\n",
       "    <tr style=\"text-align: right;\">\n",
       "      <th></th>\n",
       "      <th>Serial_no</th>\n",
       "      <th>Gre_Score</th>\n",
       "      <th>Toefl_score</th>\n",
       "      <th>University_Rating</th>\n",
       "      <th>SOP</th>\n",
       "      <th>LOR</th>\n",
       "      <th>CGPA</th>\n",
       "      <th>Research</th>\n",
       "      <th>Chance_of_Admit</th>\n",
       "    </tr>\n",
       "  </thead>\n",
       "  <tbody>\n",
       "    <tr>\n",
       "      <th>194</th>\n",
       "      <td>195</td>\n",
       "      <td>316</td>\n",
       "      <td>109</td>\n",
       "      <td>3</td>\n",
       "      <td>3.5</td>\n",
       "      <td>3.0</td>\n",
       "      <td>8.76</td>\n",
       "      <td>0</td>\n",
       "      <td>0.77</td>\n",
       "    </tr>\n",
       "    <tr>\n",
       "      <th>195</th>\n",
       "      <td>196</td>\n",
       "      <td>307</td>\n",
       "      <td>107</td>\n",
       "      <td>2</td>\n",
       "      <td>3.0</td>\n",
       "      <td>3.5</td>\n",
       "      <td>8.52</td>\n",
       "      <td>1</td>\n",
       "      <td>0.78</td>\n",
       "    </tr>\n",
       "    <tr>\n",
       "      <th>196</th>\n",
       "      <td>197</td>\n",
       "      <td>306</td>\n",
       "      <td>105</td>\n",
       "      <td>2</td>\n",
       "      <td>3.0</td>\n",
       "      <td>2.5</td>\n",
       "      <td>8.26</td>\n",
       "      <td>0</td>\n",
       "      <td>0.73</td>\n",
       "    </tr>\n",
       "    <tr>\n",
       "      <th>197</th>\n",
       "      <td>198</td>\n",
       "      <td>310</td>\n",
       "      <td>106</td>\n",
       "      <td>2</td>\n",
       "      <td>3.5</td>\n",
       "      <td>2.5</td>\n",
       "      <td>8.33</td>\n",
       "      <td>0</td>\n",
       "      <td>0.73</td>\n",
       "    </tr>\n",
       "    <tr>\n",
       "      <th>198</th>\n",
       "      <td>199</td>\n",
       "      <td>311</td>\n",
       "      <td>104</td>\n",
       "      <td>3</td>\n",
       "      <td>4.5</td>\n",
       "      <td>4.5</td>\n",
       "      <td>8.43</td>\n",
       "      <td>0</td>\n",
       "      <td>0.70</td>\n",
       "    </tr>\n",
       "  </tbody>\n",
       "</table>\n",
       "</div>"
      ],
      "text/plain": [
       "     Serial_no  Gre_Score  Toefl_score  University_Rating  SOP  LOR  CGPA  \\\n",
       "194        195        316          109                  3  3.5  3.0  8.76   \n",
       "195        196        307          107                  2  3.0  3.5  8.52   \n",
       "196        197        306          105                  2  3.0  2.5  8.26   \n",
       "197        198        310          106                  2  3.5  2.5  8.33   \n",
       "198        199        311          104                  3  4.5  4.5  8.43   \n",
       "\n",
       "     Research  Chance_of_Admit  \n",
       "194         0             0.77  \n",
       "195         1             0.78  \n",
       "196         0             0.73  \n",
       "197         0             0.73  \n",
       "198         0             0.70  "
      ]
     },
     "execution_count": 25,
     "metadata": {},
     "output_type": "execute_result"
    }
   ],
   "source": [
    "admission_data.tail()"
   ]
  },
  {
   "cell_type": "code",
   "execution_count": 26,
   "metadata": {},
   "outputs": [
    {
     "name": "stdout",
     "output_type": "stream",
     "text": [
      "199\n",
      "199\n"
     ]
    }
   ],
   "source": [
    "xsg = admission_data[\"Gre_Score\"].tolist()\n",
    "ysg = admission_data[\"Chance_of_Admit\"].tolist()\n",
    "\n",
    "\n",
    "print(len(xsg))\n",
    "print(len(ysg))"
   ]
  },
  {
   "cell_type": "code",
   "execution_count": 27,
   "metadata": {},
   "outputs": [],
   "source": [
    "import matplotlib.pyplot as plt\n",
    "\n",
    "def show_scatter_plot(title, x_label, y_label, x_values, y_values):\n",
    "    \"\"\"\n",
    "    @param title the chart title.\n",
    "    @param x_label the x-axis label.\n",
    "    @param y_label the y-axis label.\n",
    "    @param x_values the independent x values to plot.\n",
    "    @param y_values the dependent y values to plot.\n",
    "    \"\"\"\n",
    "    plt.scatter(x_values, y_values)\n",
    "    plt.title(title)\n",
    "    plt.ylabel(x_label)\n",
    "    plt.xlabel(y_label)\n",
    "    plt.show()"
   ]
  },
  {
   "cell_type": "code",
   "execution_count": 28,
   "metadata": {},
   "outputs": [
    {
     "data": {
      "image/png": "[encoded data removed]",
      "text/plain": [
       "<Figure size 432x288 with 1 Axes>"
      ]
     },
     "metadata": {
      "needs_background": "light"
     },
     "output_type": "display_data"
    }
   ],
   "source": [
    "show_scatter_plot('Scatter Plot', 'Dependent variable(Chance of Admit)', \n",
    "                  'Independent variable(GRE SCORE)', xsg, ysg )"
   ]
  },
  {
   "cell_type": "markdown",
   "metadata": {},
   "source": [
    "<h3>Linear Regression Line </h3>"
   ]
  },
  {
   "cell_type": "code",
   "execution_count": 29,
   "metadata": {},
   "outputs": [],
   "source": [
    "import numpy as np\n",
    "\n",
    "def calculate_slope_intercept(x_values, y_values):\n",
    "    \"\"\"\n",
    "    Calculate the slope and intercept of a regression line.\n",
    "    @param x_values the independent x values.\n",
    "    @param y_values the dependent y values.\n",
    "    @return a list of the slope and y-intercept of the line.\n",
    "    \"\"\"\n",
    "    x = np.array(x_values)\n",
    "    y = np.array(y_values)\n",
    "    \n",
    "    n = len(x)\n",
    "    sum_x  = np.sum(x)\n",
    "    sum_y  = np.sum(y)\n",
    "    sum_xx = np.sum(x*x)\n",
    "    sum_xy = np.sum(x*y)\n",
    "    mean_x = np.mean(x)\n",
    "    mean_y = np.mean(y)\n",
    "    \n",
    "    numerator = sum_xy - (sum_x*sum_y)/n\n",
    "    denominator = sum_xx - ((sum_x*sum_x)/n)\n",
    "    \n",
    "    m = numerator/denominator\n",
    "    b = mean_y - m*mean_x\n",
    "    \n",
    "    return m, b  # slope and intercept"
   ]
  },
  {
   "cell_type": "code",
   "execution_count": 30,
   "metadata": {},
   "outputs": [],
   "source": [
    "import matplotlib.pyplot as plt\n",
    "\n",
    "def show_least_squares_line(title, x_label, y_label, \n",
    "                            x_values, y_values):\n",
    "    \"\"\"\n",
    "    @param title the chart title.\n",
    "    @param x_label the x-axis label.\n",
    "    @param y_label the y-axis label.\n",
    "    @param x_values the independent x values to plot.\n",
    "    @param y_values the dependent y values to plot.\n",
    "    \"\"\"\n",
    "    # First show the scatter plot.\n",
    "    plt.scatter(x_values, y_values)\n",
    "    \n",
    "    # Now show the least squares line.\n",
    "    m, b = calculate_slope_intercept(x_values, y_values)\n",
    "    reg_line = [m*x + b for x in x_values]  # regression line\n",
    "    plt.plot(xsg, reg_line, color='red')\n",
    "\n",
    "    plt.title(f'{title}, m = {m:.2f}, b = {b:.2f}')\n",
    "    plt.ylabel(x_label)\n",
    "    plt.xlabel(y_label)\n",
    "\n",
    "    plt.show()"
   ]
  },
  {
   "cell_type": "code",
   "execution_count": 31,
   "metadata": {},
   "outputs": [
    {
     "data": {
      "image/png": "[encoded data removed]",
      "text/plain": [
       "<Figure size 432x288 with 1 Axes>"
      ]
     },
     "metadata": {
      "needs_background": "light"
     },
     "output_type": "display_data"
    }
   ],
   "source": [
    "show_least_squares_line('Linear Regression Line', 'Dependent variable(Chance of Admit)', \n",
    "                  'Independent variable(Gre Score)', xsg, ysg )"
   ]
  },
  {
   "cell_type": "code",
   "execution_count": null,
   "metadata": {},
   "outputs": [],
   "source": []
  },
  {
   "cell_type": "markdown",
   "metadata": {},
   "source": [
    "<h3>Calculating Coefficient of determination </h3>"
   ]
  },
  {
   "cell_type": "code",
   "execution_count": 32,
   "metadata": {},
   "outputs": [],
   "source": [
    "import numpy as np\n",
    "\n",
    "def calculate_ss(x_values, y_values):\n",
    "    \"\"\"\n",
    "    Calculate the residual and total sums of squares.\n",
    "    @param x_values the independent x values.\n",
    "    @param y_values the dependent y values.\n",
    "    @return a list of the residual and total sums of squares.\n",
    "    \"\"\"\n",
    "    x = np.array(x_values)\n",
    "    y = np.array(y_values)\n",
    "    \n",
    "    n = len(x)\n",
    "    sum_x  = np.sum(x)\n",
    "    sum_y  = np.sum(y)\n",
    "    sum_xx = np.sum(x*x)\n",
    "    sum_yy = np.sum(y*y)\n",
    "    sum_xy = np.sum(x*y)\n",
    "    mean_x = np.mean(x)\n",
    "    mean_y = np.mean(y)\n",
    "    \n",
    "    numerator = sum_xy - (sum_x*sum_y)/n\n",
    "    denominator = sum_xx - ((sum_x*sum_x)/n)\n",
    "    \n",
    "    m = numerator/denominator\n",
    "    b = mean_y - m*mean_x\n",
    "    \n",
    "    ss_residual = sum_yy - b*sum_y - m*sum_xy\n",
    "    ss_total    = sum_yy - (sum_y*sum_y)/n\n",
    "    \n",
    "    return ss_residual, ss_total\n",
    "\n",
    "\n"
   ]
  },
  {
   "cell_type": "code",
   "execution_count": 33,
   "metadata": {},
   "outputs": [],
   "source": [
    "def calculate_r2(ss_residual, ss_total):\n",
    "    \"\"\"\n",
    "    Calculate the coefficient of determination.\n",
    "    @param ss_residual the residual sum of squares.\n",
    "    @param ss_total the total sum of squares.\n",
    "    @return the coefficient of determination.\n",
    "    \"\"\"\n",
    "    cofd = 1 - ss_residual/ss_total\n",
    "    return cofd\n"
   ]
  },
  {
   "cell_type": "code",
   "execution_count": 34,
   "metadata": {},
   "outputs": [
    {
     "name": "stdout",
     "output_type": "stream",
     "text": [
      "ss_residual =  1.83339\n",
      "ss_total    =  4.85188\n"
     ]
    }
   ],
   "source": [
    "ss_residual, ss_total = calculate_ss(xsg, ysg)\n",
    "\n",
    "print(f'ss_residual = {ss_residual:8.5f}')\n",
    "print(f'ss_total    = {ss_total:8.5f}')"
   ]
  },
  {
   "cell_type": "code",
   "execution_count": 35,
   "metadata": {},
   "outputs": [
    {
     "name": "stdout",
     "output_type": "stream",
     "text": [
      "coefficient of determination = 0.622\n"
     ]
    }
   ],
   "source": [
    "r2 = calculate_r2(ss_residual, ss_total)\n",
    "\n",
    "print(f'coefficient of determination = {r2:.3f}')"
   ]
  },
  {
   "cell_type": "markdown",
   "metadata": {},
   "source": [
    "<h3>Calculating Correlation Coefficient</h3>"
   ]
  },
  {
   "cell_type": "code",
   "execution_count": 36,
   "metadata": {},
   "outputs": [],
   "source": [
    "import math\n",
    "import numpy as np\n",
    "\n",
    "def calculate_r(x_values, y_values):\n",
    "    \"\"\"\n",
    "    Calculate the correlation coefficient.\n",
    "    @param x_values the x values.\n",
    "    @param y_values the y values.\n",
    "    @return the correlation coefficient.\n",
    "    \"\"\"\n",
    "    x = np.array(x_values)\n",
    "    y = np.array(y_values)\n",
    "    \n",
    "    n = len(x)\n",
    "    sum_x  = np.sum(x)\n",
    "    sum_y  = np.sum(y)\n",
    "    sum_xx = np.sum(x*x)\n",
    "    sum_yy = np.sum(y*y)\n",
    "    sum_xy = np.sum(x*y)\n",
    "    \n",
    "    numerator = sum_xy - (sum_x*sum_y)/n\n",
    "    denominator = math.sqrt(sum_xx - (sum_x*sum_x)/n)*math.sqrt(sum_yy - (sum_y*sum_y)/n)\n",
    "    \n",
    "    r = numerator/denominator\n",
    "    return r"
   ]
  },
  {
   "cell_type": "code",
   "execution_count": 37,
   "metadata": {},
   "outputs": [
    {
     "name": "stdout",
     "output_type": "stream",
     "text": [
      "r = 0.789\n",
      "\n"
     ]
    }
   ],
   "source": [
    "r = calculate_r(xsg, ysg)\n",
    "\n",
    "print(f'r = {r:.3f}')\n",
    "print(\"\")"
   ]
  },
  {
   "cell_type": "markdown",
   "metadata": {},
   "source": [
    "<h3>Calculating Relationship between CGPA and Chance of Admit </h3>"
   ]
  },
  {
   "cell_type": "code",
   "execution_count": 38,
   "metadata": {},
   "outputs": [
    {
     "data": {
      "image/png": "[encoded data removed]",
      "text/plain": [
       "<Figure size 432x288 with 1 Axes>"
      ]
     },
     "metadata": {
      "needs_background": "light"
     },
     "output_type": "display_data"
    }
   ],
   "source": [
    "xsc = admission_data[\"CGPA\"].tolist()\n",
    "ysc = admission_data[\"Chance_of_Admit\"].tolist()\n",
    "show_scatter_plot('Scatter Plot', 'Dependent variable(Chance Of Admit)', \n",
    "                  'Independent variable(CGPA)', xsc, ysc )"
   ]
  },
  {
   "cell_type": "markdown",
   "metadata": {},
   "source": [
    "<h3>Calculating the Regression line </h3>"
   ]
  },
  {
   "cell_type": "code",
   "execution_count": 39,
   "metadata": {},
   "outputs": [],
   "source": [
    "import numpy as np\n",
    "\n",
    "def calculate_slope_intercept(x_values, y_values):\n",
    "    \"\"\"\n",
    "    Calculate the slope and intercept of a regression line.\n",
    "    @param x_values the independent x values.\n",
    "    @param y_values the dependent y values.\n",
    "    @return a list of the slope and y-intercept of the line.\n",
    "    \"\"\"\n",
    "    xsc = np.array(x_values)\n",
    "    ysc = np.array(y_values)\n",
    "    \n",
    "    n = len(xsc)\n",
    "    sum_x  = np.sum(xsc)\n",
    "    sum_y  = np.sum(ysc)\n",
    "    sum_xx = np.sum(xsc*xsc)\n",
    "    sum_xy = np.sum(xsc*ysc)\n",
    "    mean_x = np.mean(xsc)\n",
    "    mean_y = np.mean(ysc)\n",
    "    \n",
    "    numerator = sum_xy - (sum_x*sum_y)/n\n",
    "    denominator = sum_xx - ((sum_x*sum_x)/n)\n",
    "    \n",
    "    m = numerator/denominator\n",
    "    b = mean_y - m*mean_x\n",
    "    \n",
    "    return m, b  # slope and intercept"
   ]
  },
  {
   "cell_type": "code",
   "execution_count": 40,
   "metadata": {},
   "outputs": [],
   "source": [
    "import matplotlib.pyplot as plt\n",
    "\n",
    "def show_least_squares_line(title, x_label, y_label, \n",
    "                            x_values, y_values):\n",
    "    \"\"\"\n",
    "    @param title the chart title.\n",
    "    @param x_label the x-axis label.\n",
    "    @param y_label the y-axis label.\n",
    "    @param x_values the independent x values to plot.\n",
    "    @param y_values the dependent y values to plot.\n",
    "    \"\"\"\n",
    "    # First show the scatter plot.\n",
    "    plt.scatter(x_values, y_values)\n",
    "    \n",
    "    # Now show the least squares line.\n",
    "    m, b = calculate_slope_intercept(x_values, y_values)\n",
    "    reg_line = [m*x + b for x in x_values]  # regression line\n",
    "    plt.plot(xsc, reg_line, color='red')\n",
    "\n",
    "    plt.title(f'{title}, m = {m:.2f}, b = {b:.2f}')\n",
    "    plt.ylabel(x_label)\n",
    "    plt.xlabel(y_label)\n",
    "\n",
    "    plt.show()"
   ]
  },
  {
   "cell_type": "code",
   "execution_count": 41,
   "metadata": {},
   "outputs": [
    {
     "data": {
      "image/png": "[encoded data removed]",
      "text/plain": [
       "<Figure size 432x288 with 1 Axes>"
      ]
     },
     "metadata": {
      "needs_background": "light"
     },
     "output_type": "display_data"
    }
   ],
   "source": [
    "show_least_squares_line('Linear Regression Line', 'Dependent variable(Chance of Admit)', \n",
    "                  'Independent variable(CGPA)', xsc, ysc )"
   ]
  },
  {
   "cell_type": "markdown",
   "metadata": {},
   "source": [
    "<h3>Calculating Coefficient of determination </h3>"
   ]
  },
  {
   "cell_type": "code",
   "execution_count": 42,
   "metadata": {},
   "outputs": [
    {
     "name": "stdout",
     "output_type": "stream",
     "text": [
      "ss_residual =  1.33146\n",
      "ss_total    =  4.85188\n"
     ]
    }
   ],
   "source": [
    "ss_residual, ss_total = calculate_ss(xsc, ysc)\n",
    "\n",
    "print(f'ss_residual = {ss_residual:8.5f}')\n",
    "print(f'ss_total    = {ss_total:8.5f}')"
   ]
  },
  {
   "cell_type": "code",
   "execution_count": 43,
   "metadata": {},
   "outputs": [
    {
     "name": "stdout",
     "output_type": "stream",
     "text": [
      "coefficient of determination = 0.726\n"
     ]
    }
   ],
   "source": [
    "r2 = calculate_r2(ss_residual, ss_total)\n",
    "\n",
    "print(f'coefficient of determination = {r2:.3f}')"
   ]
  },
  {
   "cell_type": "markdown",
   "metadata": {},
   "source": [
    "<h3>Calculating Corelation Coefficient  </h3>"
   ]
  },
  {
   "cell_type": "code",
   "execution_count": 44,
   "metadata": {},
   "outputs": [
    {
     "name": "stdout",
     "output_type": "stream",
     "text": [
      "r = 0.852\n",
      "\n"
     ]
    }
   ],
   "source": [
    "r = calculate_r(xsc, ysc)\n",
    "\n",
    "print(f'r = {r:.3f}')\n",
    "print(\"\")"
   ]
  },
  {
   "cell_type": "markdown",
   "metadata": {},
   "source": [
    "## Report"
   ]
  },
  {
   "cell_type": "markdown",
   "metadata": {},
   "source": [
    "### We tried to construct the regression line for two different parameters and see which one had a stronger corelation co-efficient(r) Gre Score and Chance of Admit had a r of  0.7 while the r for CGPA and Chance of Admit was 0.8. So we came to the conclusion that even though the value of r indicates a strong relationship between CGPA and Chance of Admit,there is an involvement of third elements like Toefl Score and GRE which are the reason why there is such a strong relationship between two. We used two different regressions here to show how the regression varies depending on the differnet dependednt variables. Here Chance of Admit wasnt solely due to the CGPA but due to GRE ,Toefl scores as well as CGPA."
   ]
  },
  {
   "cell_type": "code",
   "execution_count": null,
   "metadata": {},
   "outputs": [],
   "source": []
  }
 ],
 "metadata": {
  "kernelspec": {
   "display_name": "Python 3",
   "language": "python",
   "name": "python3"
  },
  "language_info": {
   "codemirror_mode": {
    "name": "ipython",
    "version": 3
   },
   "file_extension": ".py",
   "mimetype": "text/x-python",
   "name": "python",
   "nbconvert_exporter": "python",
   "pygments_lexer": "ipython3",
   "version": "3.8.5"
  }
 },
 "nbformat": 4,
 "nbformat_minor": 4
}
